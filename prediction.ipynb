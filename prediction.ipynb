{
 "cells": [
  {
   "cell_type": "code",
   "execution_count": 15,
   "id": "a79e3d54",
   "metadata": {},
   "outputs": [],
   "source": [
    "from tensorflow.keras.preprocessing import sequence\n",
    "import numpy as np\n",
    "import tensorflow as tf\n",
    "from tensorflow.keras.datasets import imdb\n",
    "from tensorflow.keras.models import Sequential, load_model\n",
    "from tensorflow.keras.layers import Dense, Embedding, LSTM, Bidirectional, SimpleRNN"
   ]
  },
  {
   "cell_type": "code",
   "execution_count": 21,
   "id": "4a1647d0",
   "metadata": {},
   "outputs": [
    {
     "name": "stderr",
     "output_type": "stream",
     "text": [
      "WARNING:absl:Compiled the loaded model, but the compiled metrics have yet to be built. `model.compile_metrics` will be empty until you train or evaluate the model.\n"
     ]
    },
    {
     "data": {
      "text/html": [
       "<pre style=\"white-space:pre;overflow-x:auto;line-height:normal;font-family:Menlo,'DejaVu Sans Mono',consolas,'Courier New',monospace\"><span style=\"font-weight: bold\">Model: \"sequential_2\"</span>\n",
       "</pre>\n"
      ],
      "text/plain": [
       "\u001b[1mModel: \"sequential_2\"\u001b[0m\n"
      ]
     },
     "metadata": {},
     "output_type": "display_data"
    },
    {
     "data": {
      "text/html": [
       "<pre style=\"white-space:pre;overflow-x:auto;line-height:normal;font-family:Menlo,'DejaVu Sans Mono',consolas,'Courier New',monospace\">┏━━━━━━━━━━━━━━━━━━━━━━━━━━━━━━━━━┳━━━━━━━━━━━━━━━━━━━━━━━━┳━━━━━━━━━━━━━━━┓\n",
       "┃<span style=\"font-weight: bold\"> Layer (type)                    </span>┃<span style=\"font-weight: bold\"> Output Shape           </span>┃<span style=\"font-weight: bold\">       Param # </span>┃\n",
       "┡━━━━━━━━━━━━━━━━━━━━━━━━━━━━━━━━━╇━━━━━━━━━━━━━━━━━━━━━━━━╇━━━━━━━━━━━━━━━┩\n",
       "│ embedding_2 (<span style=\"color: #0087ff; text-decoration-color: #0087ff\">Embedding</span>)         │ (<span style=\"color: #00af00; text-decoration-color: #00af00\">32</span>, <span style=\"color: #00af00; text-decoration-color: #00af00\">500</span>, <span style=\"color: #00af00; text-decoration-color: #00af00\">128</span>)         │     <span style=\"color: #00af00; text-decoration-color: #00af00\">1,280,000</span> │\n",
       "├─────────────────────────────────┼────────────────────────┼───────────────┤\n",
       "│ simple_rnn_1 (<span style=\"color: #0087ff; text-decoration-color: #0087ff\">SimpleRNN</span>)        │ (<span style=\"color: #00af00; text-decoration-color: #00af00\">32</span>, <span style=\"color: #00af00; text-decoration-color: #00af00\">128</span>)              │        <span style=\"color: #00af00; text-decoration-color: #00af00\">32,896</span> │\n",
       "├─────────────────────────────────┼────────────────────────┼───────────────┤\n",
       "│ dense_1 (<span style=\"color: #0087ff; text-decoration-color: #0087ff\">Dense</span>)                 │ (<span style=\"color: #00af00; text-decoration-color: #00af00\">32</span>, <span style=\"color: #00af00; text-decoration-color: #00af00\">1</span>)                │           <span style=\"color: #00af00; text-decoration-color: #00af00\">129</span> │\n",
       "└─────────────────────────────────┴────────────────────────┴───────────────┘\n",
       "</pre>\n"
      ],
      "text/plain": [
       "┏━━━━━━━━━━━━━━━━━━━━━━━━━━━━━━━━━┳━━━━━━━━━━━━━━━━━━━━━━━━┳━━━━━━━━━━━━━━━┓\n",
       "┃\u001b[1m \u001b[0m\u001b[1mLayer (type)                   \u001b[0m\u001b[1m \u001b[0m┃\u001b[1m \u001b[0m\u001b[1mOutput Shape          \u001b[0m\u001b[1m \u001b[0m┃\u001b[1m \u001b[0m\u001b[1m      Param #\u001b[0m\u001b[1m \u001b[0m┃\n",
       "┡━━━━━━━━━━━━━━━━━━━━━━━━━━━━━━━━━╇━━━━━━━━━━━━━━━━━━━━━━━━╇━━━━━━━━━━━━━━━┩\n",
       "│ embedding_2 (\u001b[38;5;33mEmbedding\u001b[0m)         │ (\u001b[38;5;34m32\u001b[0m, \u001b[38;5;34m500\u001b[0m, \u001b[38;5;34m128\u001b[0m)         │     \u001b[38;5;34m1,280,000\u001b[0m │\n",
       "├─────────────────────────────────┼────────────────────────┼───────────────┤\n",
       "│ simple_rnn_1 (\u001b[38;5;33mSimpleRNN\u001b[0m)        │ (\u001b[38;5;34m32\u001b[0m, \u001b[38;5;34m128\u001b[0m)              │        \u001b[38;5;34m32,896\u001b[0m │\n",
       "├─────────────────────────────────┼────────────────────────┼───────────────┤\n",
       "│ dense_1 (\u001b[38;5;33mDense\u001b[0m)                 │ (\u001b[38;5;34m32\u001b[0m, \u001b[38;5;34m1\u001b[0m)                │           \u001b[38;5;34m129\u001b[0m │\n",
       "└─────────────────────────────────┴────────────────────────┴───────────────┘\n"
      ]
     },
     "metadata": {},
     "output_type": "display_data"
    },
    {
     "data": {
      "text/html": [
       "<pre style=\"white-space:pre;overflow-x:auto;line-height:normal;font-family:Menlo,'DejaVu Sans Mono',consolas,'Courier New',monospace\"><span style=\"font-weight: bold\"> Total params: </span><span style=\"color: #00af00; text-decoration-color: #00af00\">1,313,027</span> (5.01 MB)\n",
       "</pre>\n"
      ],
      "text/plain": [
       "\u001b[1m Total params: \u001b[0m\u001b[38;5;34m1,313,027\u001b[0m (5.01 MB)\n"
      ]
     },
     "metadata": {},
     "output_type": "display_data"
    },
    {
     "data": {
      "text/html": [
       "<pre style=\"white-space:pre;overflow-x:auto;line-height:normal;font-family:Menlo,'DejaVu Sans Mono',consolas,'Courier New',monospace\"><span style=\"font-weight: bold\"> Trainable params: </span><span style=\"color: #00af00; text-decoration-color: #00af00\">1,313,025</span> (5.01 MB)\n",
       "</pre>\n"
      ],
      "text/plain": [
       "\u001b[1m Trainable params: \u001b[0m\u001b[38;5;34m1,313,025\u001b[0m (5.01 MB)\n"
      ]
     },
     "metadata": {},
     "output_type": "display_data"
    },
    {
     "data": {
      "text/html": [
       "<pre style=\"white-space:pre;overflow-x:auto;line-height:normal;font-family:Menlo,'DejaVu Sans Mono',consolas,'Courier New',monospace\"><span style=\"font-weight: bold\"> Non-trainable params: </span><span style=\"color: #00af00; text-decoration-color: #00af00\">0</span> (0.00 B)\n",
       "</pre>\n"
      ],
      "text/plain": [
       "\u001b[1m Non-trainable params: \u001b[0m\u001b[38;5;34m0\u001b[0m (0.00 B)\n"
      ]
     },
     "metadata": {},
     "output_type": "display_data"
    },
    {
     "data": {
      "text/html": [
       "<pre style=\"white-space:pre;overflow-x:auto;line-height:normal;font-family:Menlo,'DejaVu Sans Mono',consolas,'Courier New',monospace\"><span style=\"font-weight: bold\"> Optimizer params: </span><span style=\"color: #00af00; text-decoration-color: #00af00\">2</span> (12.00 B)\n",
       "</pre>\n"
      ],
      "text/plain": [
       "\u001b[1m Optimizer params: \u001b[0m\u001b[38;5;34m2\u001b[0m (12.00 B)\n"
      ]
     },
     "metadata": {},
     "output_type": "display_data"
    }
   ],
   "source": [
    "model = load_model('imdb_rnn_model.h5')\n",
    "model.summary()"
   ]
  },
  {
   "cell_type": "code",
   "execution_count": 22,
   "id": "dffa73cf",
   "metadata": {},
   "outputs": [
    {
     "data": {
      "text/plain": [
       "[array([[-0.28209195, -0.06828456,  0.06233218, ..., -0.3314906 ,\n",
       "         -0.25360638,  0.30308434],\n",
       "        [-0.00295424,  0.00309028,  0.0335736 , ...,  0.02703444,\n",
       "         -0.01440253, -0.0256966 ],\n",
       "        [ 0.02407131,  0.06749035,  0.02849429, ...,  0.06289065,\n",
       "         -0.06575964, -0.0217566 ],\n",
       "        ...,\n",
       "        [ 0.03437976,  0.02169576,  0.02910005, ..., -0.00101734,\n",
       "          0.02867325, -0.00229347],\n",
       "        [-0.01617313, -0.06767311, -0.04499904, ...,  0.07331541,\n",
       "          0.02926225,  0.03735138],\n",
       "        [-0.1020631 , -0.02230534,  0.04941237, ...,  0.00967941,\n",
       "          0.01053875, -0.02522142]], dtype=float32),\n",
       " array([[ 0.04085692, -0.12313432,  0.03449909, ...,  0.04509085,\n",
       "         -0.11197715,  0.00651291],\n",
       "        [-0.03083256,  0.1218774 ,  0.06570043, ..., -0.03523736,\n",
       "          0.07821223,  0.13827899],\n",
       "        [ 0.07930948,  0.07231107, -0.02955589, ..., -0.06725153,\n",
       "          0.00956845,  0.13210383],\n",
       "        ...,\n",
       "        [ 0.11027866,  0.02403197, -0.06953789, ..., -0.00776303,\n",
       "          0.0609079 , -0.12371579],\n",
       "        [ 0.16380379, -0.09225697,  0.11474102, ..., -0.16069238,\n",
       "         -0.14795992,  0.10252656],\n",
       "        [ 0.0174052 , -0.03115739, -0.1060269 , ...,  0.147913  ,\n",
       "         -0.02542876,  0.05898615]], dtype=float32),\n",
       " array([[-0.07433045, -0.10328215,  0.05924629, ..., -0.02499335,\n",
       "         -0.02069493,  0.11957907],\n",
       "        [ 0.00644347,  0.0056083 ,  0.10521729, ...,  0.13247351,\n",
       "          0.09923807, -0.07575099],\n",
       "        [ 0.02991765, -0.0490084 ,  0.01923726, ...,  0.12760481,\n",
       "          0.11462144,  0.13926189],\n",
       "        ...,\n",
       "        [-0.0576879 , -0.01613024, -0.24840318, ..., -0.08487476,\n",
       "          0.06808399, -0.06437135],\n",
       "        [-0.02077438, -0.23025319, -0.08523741, ...,  0.06015465,\n",
       "         -0.00591716, -0.03003135],\n",
       "        [-0.13855447, -0.12401335, -0.02016336, ...,  0.09752815,\n",
       "         -0.10792343,  0.0221681 ]], dtype=float32),\n",
       " array([-0.00473664, -0.02343882, -0.00668454, -0.00937669, -0.00294785,\n",
       "        -0.01915016, -0.00418674, -0.00260689,  0.01893663, -0.00355521,\n",
       "        -0.01093693, -0.02566694, -0.01393079, -0.01456876,  0.0015451 ,\n",
       "        -0.03620546, -0.01949316, -0.00329815, -0.00332543, -0.01002375,\n",
       "         0.01298566,  0.00455917, -0.00243951,  0.00086601, -0.04706943,\n",
       "        -0.00702461, -0.00307886,  0.02858693, -0.01221002, -0.00144926,\n",
       "         0.01126365, -0.02660774, -0.01457871,  0.0215359 , -0.01654172,\n",
       "        -0.00285045, -0.00751313, -0.01235892, -0.02917613, -0.01643635,\n",
       "         0.01277466, -0.00705941, -0.0034111 ,  0.00236501, -0.00274441,\n",
       "        -0.00239816, -0.03855633,  0.02069828, -0.01281218, -0.0049309 ,\n",
       "        -0.01394856,  0.02146892, -0.0059431 ,  0.00046808,  0.01324839,\n",
       "        -0.00888788, -0.01295957, -0.01817067, -0.01554545,  0.00880599,\n",
       "        -0.02167872, -0.00532359, -0.0243241 ,  0.00223377, -0.00317566,\n",
       "        -0.00298477,  0.01486527, -0.00047588, -0.00246025, -0.00497603,\n",
       "         0.0098882 , -0.00823898, -0.0043025 , -0.02002374, -0.01586809,\n",
       "        -0.01531326,  0.00500301, -0.02774177,  0.00368926, -0.00595084,\n",
       "        -0.01015819, -0.02108807, -0.00919841,  0.00315382,  0.00735969,\n",
       "         0.0035469 , -0.00015363, -0.0032252 , -0.03650435, -0.00699028,\n",
       "         0.0277588 , -0.00412049,  0.00186664,  0.00062291, -0.00577039,\n",
       "        -0.0005092 , -0.00022831,  0.00175126, -0.00527744, -0.0035219 ,\n",
       "         0.02917052, -0.02671099, -0.00572555, -0.01065116, -0.00737519,\n",
       "        -0.00755942,  0.01622453, -0.00763112,  0.01861751, -0.01352715,\n",
       "        -0.04131967,  0.00538333, -0.01468106, -0.00149906, -0.00729522,\n",
       "         0.01539542, -0.01185939, -0.00583022, -0.0263779 , -0.01116411,\n",
       "        -0.00889787, -0.00726042,  0.01685064,  0.0027927 , -0.00468428,\n",
       "         0.01100287,  0.01329225,  0.00227188], dtype=float32),\n",
       " array([[-0.94841295],\n",
       "        [ 0.31831402],\n",
       "        [ 0.20765463],\n",
       "        [-0.02194668],\n",
       "        [-0.07448044],\n",
       "        [ 0.22217794],\n",
       "        [ 0.10219565],\n",
       "        [-0.20333448],\n",
       "        [-0.5369927 ],\n",
       "        [ 0.07666707],\n",
       "        [ 0.13510224],\n",
       "        [ 0.1340491 ],\n",
       "        [-0.14170587],\n",
       "        [-0.7183018 ],\n",
       "        [ 0.13500836],\n",
       "        [ 0.21470983],\n",
       "        [ 0.13767281],\n",
       "        [-0.1985647 ],\n",
       "        [-0.17687523],\n",
       "        [-0.12394695],\n",
       "        [ 0.03180328],\n",
       "        [-0.15898909],\n",
       "        [-0.05460648],\n",
       "        [-0.1607471 ],\n",
       "        [ 0.07912114],\n",
       "        [ 0.20047738],\n",
       "        [-0.1583325 ],\n",
       "        [-0.15638109],\n",
       "        [-0.10782654],\n",
       "        [-0.03531211],\n",
       "        [ 0.12880206],\n",
       "        [ 0.00959782],\n",
       "        [-0.02096111],\n",
       "        [ 0.11902548],\n",
       "        [ 0.07628824],\n",
       "        [-0.0009548 ],\n",
       "        [-0.15633291],\n",
       "        [-0.1586215 ],\n",
       "        [-0.0889397 ],\n",
       "        [-0.34725302],\n",
       "        [ 0.15433611],\n",
       "        [ 0.12994806],\n",
       "        [ 0.1804434 ],\n",
       "        [ 0.18076353],\n",
       "        [-0.08902402],\n",
       "        [ 0.17900495],\n",
       "        [-0.57870525],\n",
       "        [ 0.16709621],\n",
       "        [-0.00487988],\n",
       "        [ 0.06367914],\n",
       "        [-0.00441153],\n",
       "        [-0.3319028 ],\n",
       "        [ 0.11375277],\n",
       "        [-0.07569321],\n",
       "        [ 0.05740355],\n",
       "        [ 0.07108779],\n",
       "        [-0.01641893],\n",
       "        [ 0.47402653],\n",
       "        [ 0.10082185],\n",
       "        [-0.16649345],\n",
       "        [-0.12995093],\n",
       "        [ 0.08022433],\n",
       "        [ 0.11355595],\n",
       "        [-0.0829242 ],\n",
       "        [ 0.04247101],\n",
       "        [-0.07895423],\n",
       "        [-0.22089973],\n",
       "        [ 0.12270731],\n",
       "        [ 0.08515528],\n",
       "        [ 0.13941687],\n",
       "        [-0.07195278],\n",
       "        [ 0.26672134],\n",
       "        [-0.15871812],\n",
       "        [-0.42564672],\n",
       "        [-0.13960333],\n",
       "        [-0.18300323],\n",
       "        [ 0.10259943],\n",
       "        [ 0.16244629],\n",
       "        [-0.22016522],\n",
       "        [-0.5178244 ],\n",
       "        [-0.07851806],\n",
       "        [ 0.06444934],\n",
       "        [-0.02668502],\n",
       "        [-0.08888291],\n",
       "        [ 0.08249251],\n",
       "        [-0.5054434 ],\n",
       "        [-0.09178244],\n",
       "        [ 0.21597552],\n",
       "        [ 0.17564696],\n",
       "        [-0.10972974],\n",
       "        [ 0.1126282 ],\n",
       "        [ 0.05336523],\n",
       "        [-0.20854522],\n",
       "        [-0.17399527],\n",
       "        [ 0.19696394],\n",
       "        [-0.01981211],\n",
       "        [ 0.06553069],\n",
       "        [-0.36614507],\n",
       "        [ 0.17844774],\n",
       "        [-0.09468184],\n",
       "        [-0.21883415],\n",
       "        [ 0.0148696 ],\n",
       "        [-0.1064183 ],\n",
       "        [-0.14055704],\n",
       "        [-0.10686824],\n",
       "        [ 0.1169508 ],\n",
       "        [-0.19540699],\n",
       "        [-0.09178063],\n",
       "        [-0.3289059 ],\n",
       "        [-0.03760612],\n",
       "        [ 0.42400005],\n",
       "        [ 0.12322047],\n",
       "        [-0.501847  ],\n",
       "        [-0.08219224],\n",
       "        [-0.06379059],\n",
       "        [ 0.05787737],\n",
       "        [ 0.09093976],\n",
       "        [ 0.0721174 ],\n",
       "        [-0.08331411],\n",
       "        [ 0.05995574],\n",
       "        [ 0.09435857],\n",
       "        [ 0.13462348],\n",
       "        [ 0.04427925],\n",
       "        [-0.09506606],\n",
       "        [-0.07077561],\n",
       "        [-0.7357102 ],\n",
       "        [-0.1253205 ],\n",
       "        [ 0.0899749 ]], dtype=float32),\n",
       " array([0.11961381], dtype=float32)]"
      ]
     },
     "execution_count": 22,
     "metadata": {},
     "output_type": "execute_result"
    }
   ],
   "source": [
    "model.get_weights()"
   ]
  },
  {
   "cell_type": "code",
   "execution_count": 23,
   "id": "12ca0356",
   "metadata": {},
   "outputs": [],
   "source": [
    "\n",
    "word_index = imdb.get_word_index();\n",
    "reverse_word_index =  {value: key for (key, value) in word_index.items()}"
   ]
  },
  {
   "cell_type": "code",
   "execution_count": 25,
   "id": "2cd37ea4",
   "metadata": {},
   "outputs": [],
   "source": [
    "### function to decode review\n",
    "def decode_review(text):\n",
    "    words = text.lower().split()\n",
    "    text = [int(word) for word in words]\n",
    "    text = [reverse_word_index.get(i - 3, '?') for i in text]\n",
    "    return ' '.join(text)\n",
    "\n",
    "### function to pre-process input\n",
    "def preprocess_input(text):\n",
    "    words = text.lower().split()\n",
    "    encoded_review = [ word_index.get(word,2)+3 for word in words]\n",
    "    padded_review = sequence.pad_sequences([encoded_review], maxlen=500)\n",
    "    return padded_review"
   ]
  },
  {
   "cell_type": "code",
   "execution_count": 26,
   "id": "bf55899f",
   "metadata": {},
   "outputs": [],
   "source": [
    "### prediction function\n",
    "def  predict_review(text):\n",
    "    padded_review = preprocess_input(text)\n",
    "    prediction = model.predict(padded_review)\n",
    "    sentiment = 'Postive' if prediction[0][0] > 0.5 else 'Negative'\n",
    "    return sentiment, prediction[0][0]"
   ]
  },
  {
   "cell_type": "code",
   "execution_count": 27,
   "id": "697477d5",
   "metadata": {},
   "outputs": [
    {
     "name": "stdout",
     "output_type": "stream",
     "text": [
      "\u001b[1m1/1\u001b[0m \u001b[32m━━━━━━━━━━━━━━━━━━━━\u001b[0m\u001b[37m\u001b[0m \u001b[1m0s\u001b[0m 181ms/step\n",
      "Sentiment: Postive, Score: 0.8511\n"
     ]
    }
   ],
   "source": [
    "example_review = \"This movie was fantastic! I loved it.\"\n",
    "sentiment, score = predict_review(example_review)\n",
    "# print(f\"Review: {decode_review(example_review)}\")\n",
    "print(f\"Sentiment: {sentiment}, Score: {score:.4f}\")"
   ]
  }
 ],
 "metadata": {
  "kernelspec": {
   "display_name": "venv",
   "language": "python",
   "name": "python3"
  },
  "language_info": {
   "codemirror_mode": {
    "name": "ipython",
    "version": 3
   },
   "file_extension": ".py",
   "mimetype": "text/x-python",
   "name": "python",
   "nbconvert_exporter": "python",
   "pygments_lexer": "ipython3",
   "version": "3.12.4"
  }
 },
 "nbformat": 4,
 "nbformat_minor": 5
}
